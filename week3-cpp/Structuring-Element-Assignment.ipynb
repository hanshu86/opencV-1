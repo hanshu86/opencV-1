{
 "cells": [
  {
   "cell_type": "markdown",
   "metadata": {},
   "source": [
    "# <font style = \"color:rgb(50,120,229)\">Implementation of Morphological Operations</font>\n",
    "We had discussed how to use dilation and erosion operations in the previous section. In this section, we will see what is going on under the hood. The most important concept that you need to understand is the Structuring element. We will discuss about the structuring element and how it is used for performing these morphological operations."
   ]
  },
  {
   "cell_type": "code",
   "execution_count": 1,
   "metadata": {
    "collapsed": true
   },
   "outputs": [],
   "source": [
    "#include <iostream>"
   ]
  },
  {
   "cell_type": "code",
   "execution_count": 2,
   "metadata": {
    "collapsed": true
   },
   "outputs": [],
   "source": [
    "#include \"../resource/lib/public/includeLibraries.h\"\n",
    "#include \"../resource/lib/public/matplotlibcpp.h\"\n",
    "#include \"../resource/lib/public/displayImages.h\"\n",
    "#include <opencv2/opencv.hpp>\n",
    "#include <opencv2/core.hpp>\n",
    "#include <time.h>"
   ]
  },
  {
   "cell_type": "code",
   "execution_count": 3,
   "metadata": {
    "collapsed": true
   },
   "outputs": [],
   "source": [
    "using namespace std;"
   ]
  },
  {
   "cell_type": "code",
   "execution_count": 4,
   "metadata": {
    "collapsed": true
   },
   "outputs": [],
   "source": [
    "using namespace cv;"
   ]
  },
  {
   "cell_type": "code",
   "execution_count": 5,
   "metadata": {
    "collapsed": true
   },
   "outputs": [],
   "source": [
    "using namespace matplotlibcpp;"
   ]
  },
  {
   "cell_type": "markdown",
   "metadata": {},
   "source": [
    "## <font style=\"color:rgb(50,120,229)\">Implement Method 2</font>\n",
    "1. Scan through the image and superimpose the kernel on the neighborhood of each pixel. \n",
    "1. Perform an AND operation of the neighborhood with the kernel.\n",
    "1. Replace the pixel value with the `maximum` value in the neighborhood given by the kernel. \n",
    "\n",
    "This means that you check every pixel and its neighborhood with respect to the kernel and change the pixel to white if any of the pixel in this neighborhood is white. OpenCV implements an optimized version of this method. This will work even if the image is not a binary image."
   ]
  },
  {
   "cell_type": "markdown",
   "metadata": {},
   "source": [
    "# <font style=\"color:rgb(50,120,229)\">Create a Demo Image</font>"
   ]
  },
  {
   "cell_type": "markdown",
   "metadata": {},
   "source": [
    "## <font style=\"color:rgb(50,120,229)\">Create an empty matrix </font>"
   ]
  },
  {
   "cell_type": "code",
   "execution_count": 6,
   "metadata": {
    "collapsed": true
   },
   "outputs": [],
   "source": [
    "Mat demoImage = Mat::zeros(Size(10,10),CV_8U);"
   ]
  },
  {
   "cell_type": "code",
   "execution_count": 7,
   "metadata": {},
   "outputs": [
    {
     "name": "stdout",
     "output_type": "stream",
     "text": [
      "[  0,   0,   0,   0,   0,   0,   0,   0,   0,   0;\n",
      "   0,   0,   0,   0,   0,   0,   0,   0,   0,   0;\n",
      "   0,   0,   0,   0,   0,   0,   0,   0,   0,   0;\n",
      "   0,   0,   0,   0,   0,   0,   0,   0,   0,   0;\n",
      "   0,   0,   0,   0,   0,   0,   0,   0,   0,   0;\n",
      "   0,   0,   0,   0,   0,   0,   0,   0,   0,   0;\n",
      "   0,   0,   0,   0,   0,   0,   0,   0,   0,   0;\n",
      "   0,   0,   0,   0,   0,   0,   0,   0,   0,   0;\n",
      "   0,   0,   0,   0,   0,   0,   0,   0,   0,   0;\n",
      "   0,   0,   0,   0,   0,   0,   0,   0,   0,   0]"
     ]
    }
   ],
   "source": [
    "cout << demoImage;"
   ]
  },
  {
   "cell_type": "code",
   "execution_count": 8,
   "metadata": {
    "collapsed": true
   },
   "outputs": [],
   "source": [
    "plt::figure();\n",
    "plt::imshow(demoImage);\n",
    "auto pltImg = displayImage(demoImage);"
   ]
  },
  {
   "cell_type": "code",
   "execution_count": 9,
   "metadata": {},
   "outputs": [
    {
     "data": {
      "image/png": "[encoded data removed]"
     },
     "execution_count": 9,
     "metadata": {},
     "output_type": "execute_result"
    }
   ],
   "source": [
    "pltImg"
   ]
  },
  {
   "cell_type": "markdown",
   "metadata": {},
   "source": [
    "## <font style=\"color:rgb(50,120,229)\">Lets add some white blobs</font>\n",
    "\n",
    "We have added the blobs at different places so that all boundary cases are covered in this example."
   ]
  },
  {
   "cell_type": "code",
   "execution_count": 10,
   "metadata": {
    "collapsed": true
   },
   "outputs": [],
   "source": [
    "demoImage.at<uchar>(0,1) = 1;"
   ]
  },
  {
   "cell_type": "code",
   "execution_count": 11,
   "metadata": {
    "collapsed": true
   },
   "outputs": [],
   "source": [
    "demoImage.at<uchar>(9,0) = 1;"
   ]
  },
  {
   "cell_type": "code",
   "execution_count": 12,
   "metadata": {
    "collapsed": true
   },
   "outputs": [],
   "source": [
    "demoImage.at<uchar>(8,9) = 1;"
   ]
  },
  {
   "cell_type": "code",
   "execution_count": 13,
   "metadata": {
    "collapsed": true
   },
   "outputs": [],
   "source": [
    "demoImage.at<uchar>(2,2) = 1;"
   ]
  },
  {
   "cell_type": "code",
   "execution_count": 14,
   "metadata": {
    "collapsed": true
   },
   "outputs": [],
   "source": [
    "demoImage(Range(5,8),Range(5,8)).setTo(1);"
   ]
  },
  {
   "cell_type": "code",
   "execution_count": 15,
   "metadata": {},
   "outputs": [
    {
     "name": "stdout",
     "output_type": "stream",
     "text": [
      "[  0,   1,   0,   0,   0,   0,   0,   0,   0,   0;\n",
      "   0,   0,   0,   0,   0,   0,   0,   0,   0,   0;\n",
      "   0,   0,   1,   0,   0,   0,   0,   0,   0,   0;\n",
      "   0,   0,   0,   0,   0,   0,   0,   0,   0,   0;\n",
      "   0,   0,   0,   0,   0,   0,   0,   0,   0,   0;\n",
      "   0,   0,   0,   0,   0,   1,   1,   1,   0,   0;\n",
      "   0,   0,   0,   0,   0,   1,   1,   1,   0,   0;\n",
      "   0,   0,   0,   0,   0,   1,   1,   1,   0,   0;\n",
      "   0,   0,   0,   0,   0,   0,   0,   0,   0,   1;\n",
      "   1,   0,   0,   0,   0,   0,   0,   0,   0,   0]"
     ]
    }
   ],
   "source": [
    "cout << demoImage;"
   ]
  },
  {
   "cell_type": "code",
   "execution_count": 16,
   "metadata": {},
   "outputs": [
    {
     "data": {
      "image/png": "[encoded data removed]"
     },
     "execution_count": 16,
     "metadata": {},
     "output_type": "execute_result"
    }
   ],
   "source": [
    "plt::figure();\n",
    "plt::imshow(demoImage*255);\n",
    "pltImg = displayImage(demoImage*255);\n",
    "pltImg"
   ]
  },
  {
   "cell_type": "markdown",
   "metadata": {},
   "source": [
    "This becomes our demo Image for illustration purpose"
   ]
  },
  {
   "cell_type": "markdown",
   "metadata": {},
   "source": [
    "## <font style=\"color:rgb(50,120,229)\">Create a Cross Structuring Element </font>\n",
    "Let us create a 3x3 cross structuring element."
   ]
  },
  {
   "cell_type": "code",
   "execution_count": 17,
   "metadata": {
    "collapsed": true
   },
   "outputs": [],
   "source": [
    "Mat element = getStructuringElement(MORPH_CROSS, Size(3,3));"
   ]
  },
  {
   "cell_type": "code",
   "execution_count": 18,
   "metadata": {},
   "outputs": [
    {
     "name": "stdout",
     "output_type": "stream",
     "text": [
      "[  0,   1,   0;\n",
      "   1,   1,   1;\n",
      "   0,   1,   0]"
     ]
    }
   ],
   "source": [
    "cout << element;"
   ]
  },
  {
   "cell_type": "code",
   "execution_count": 19,
   "metadata": {},
   "outputs": [
    {
     "data": {
      "image/png": "[encoded data removed]"
     },
     "execution_count": 19,
     "metadata": {},
     "output_type": "execute_result"
    }
   ],
   "source": [
    "plt::figure();\n",
    "plt::imshow(element*255);\n",
    "pltImg = displayImage(element*255);\n",
    "pltImg"
   ]
  },
  {
   "cell_type": "code",
   "execution_count": 20,
   "metadata": {},
   "outputs": [
    {
     "name": "stdout",
     "output_type": "stream",
     "text": [
      "3\n"
     ]
    }
   ],
   "source": [
    "int ksize = element.size().height;\n",
    "cout << ksize << endl;"
   ]
  },
  {
   "cell_type": "code",
   "execution_count": 21,
   "metadata": {},
   "outputs": [
    {
     "name": "stdout",
     "output_type": "stream",
     "text": [
      "height:10\n",
      "width:10\n"
     ]
    }
   ],
   "source": [
    "int height, width;\n",
    "height = demoImage.size().height;\n",
    "width  = demoImage.size().width;\n",
    "cout << \"height:\" << height << endl;\n",
    "cout << \"width:\" << width << endl;"
   ]
  },
  {
   "cell_type": "markdown",
   "metadata": {},
   "source": [
    "## <font style=\"color:rgb(50,120,229)\">First check expected output using cv::dilate</font>"
   ]
  },
  {
   "cell_type": "code",
   "execution_count": 22,
   "metadata": {
    "scrolled": true
   },
   "outputs": [
    {
     "name": "stdout",
     "output_type": "stream",
     "text": [
      "[  1,   1,   1,   0,   0,   0,   0,   0,   0,   0;\n",
      "   0,   1,   1,   0,   0,   0,   0,   0,   0,   0;\n",
      "   0,   1,   1,   1,   0,   0,   0,   0,   0,   0;\n",
      "   0,   0,   1,   0,   0,   0,   0,   0,   0,   0;\n",
      "   0,   0,   0,   0,   0,   1,   1,   1,   0,   0;\n",
      "   0,   0,   0,   0,   1,   1,   1,   1,   1,   0;\n",
      "   0,   0,   0,   0,   1,   1,   1,   1,   1,   0;\n",
      "   0,   0,   0,   0,   1,   1,   1,   1,   1,   1;\n",
      "   1,   0,   0,   0,   0,   1,   1,   1,   1,   1;\n",
      "   1,   1,   0,   0,   0,   0,   0,   0,   0,   1]"
     ]
    }
   ],
   "source": [
    "Mat dilatedCrossKernel;\n",
    "dilate(demoImage, dilatedCrossKernel, element);\n",
    "cout << dilatedCrossKernel;"
   ]
  },
  {
   "cell_type": "code",
   "execution_count": 23,
   "metadata": {},
   "outputs": [
    {
     "data": {
      "image/png": "[encoded data removed]"
     },
     "execution_count": 23,
     "metadata": {},
     "output_type": "execute_result"
    }
   ],
   "source": [
    "plt::figure();\n",
    "plt::imshow(dilatedCrossKernel*255);\n",
    "pltImg = displayImage(dilatedCrossKernel*255);\n",
    "pltImg"
   ]
  },
  {
   "cell_type": "code",
   "execution_count": 24,
   "metadata": {},
   "outputs": [
    {
     "name": "stdout",
     "output_type": "stream",
     "text": [
      "[  0,   1,   0;\n",
      "   1,   0,   1;\n",
      "   0,   1,   0]\n"
     ]
    }
   ],
   "source": [
    "//set the center of the element to 0 so that by bitwise\n",
    "//and we can find if any neighbor is 1 or not\n",
    "Mat elementClone = element.clone();\n",
    "elementClone.at<uchar>(1,1) = 0;\n",
    "cout << elementClone << endl;"
   ]
  },
  {
   "cell_type": "code",
   "execution_count": 25,
   "metadata": {},
   "outputs": [],
   "source": [
    "//move all declaration 1 cell above so that i can keep\n",
    "//working on loop without getting error (duplicate declaration)\n",
    "int border = ksize/2;\n",
    "Mat paddedDemoImage = Mat::zeros(Size(height + border*2, width + border*2),CV_8UC1);\n",
    "copyMakeBorder(demoImage,paddedDemoImage,border,border,border,border,BORDER_CONSTANT,0);\n",
    "\n",
    "Mat paddedDilatedImage = paddedDemoImage.clone();\n",
    "Mat mask;\n",
    "Mat resizedFrame;\n",
    "\n",
    "double minVal, maxVal;\n",
    "\n",
    "Mat dstAnd;\n",
    "double sumDst;\n",
    "Mat resizedBGRImage;\n",
    "Mat finalImage;\n",
    "// Create a VideoWriter object\n",
    "// Use frame size as 50x50\n",
    "int frame_width = 50;\n",
    "int frame_height = 50;\n",
    "double fps = 10;\n",
    "VideoWriter dialationavi(\"dilationScratch.avi\", cv::VideoWriter::fourcc('M','J','P','G'), fps, Size(frame_width,frame_height));"
   ]
  },
  {
   "cell_type": "markdown",
   "metadata": {},
   "source": [
    "## <font style=\"color:rgb(50,120,229)\">Write Code for Dilation from scratch</font>\n",
    "\n",
    "Create a VideoWriter object and write the result obtained at the end of each iteration to the object. Save the video to **`dilationScratch.avi`** and display it using markdown below:\n",
    "\n",
    "**`dilationScratch.avi` will come here**\n",
    "\n",
    "```<video width=\"320\" height=\"240\" controls>\n",
    "  <source src=\"dilationScratch.avi\" type=\"video/mp4\">\n",
    "</video>```\n",
    "\n",
    "**Note**\n",
    "\n",
    "1. Use FPS as 10 and frame size as 50x50\n",
    "2. Before writing the frame, resize it to 50x50\n",
    "3. Convert the resized frame to BGR\n",
    "4. Release the object"
   ]
  },
  {
   "cell_type": "code",
   "execution_count": 26,
   "metadata": {},
   "outputs": [],
   "source": [
    "//matrix bitwise and scratch area\n",
    "// Mat mat3 = paddedDemoImage(Range(1-border, 1+border+1),\n",
    "//                            Range(1-border,1+border+1));\n",
    "// cout << mat3 << endl;\n",
    "// Mat dst1;\n",
    "// bitwise_and(mat3, element, dst1);\n",
    "// double s1 = cv::sum( dst1 )[0];\n",
    "// if(s1 > 0)\n",
    "// {\n",
    "//     cout << \"true\" << endl;\n",
    "//     cv::minMaxLoc(mat3, &minVal, &maxVal);\n",
    "//     cout << \"max:\" << maxVal << endl;\n",
    "//     mat3.at<uchar>(1,1) = maxVal;\n",
    "// }\n",
    "// cout << dst1 << endl;\n",
    "// cout << mat3 << endl;"
   ]
  },
  {
   "cell_type": "code",
   "execution_count": 27,
   "metadata": {},
   "outputs": [],
   "source": [
    "for (int h_i = border; h_i < height + border; h_i++){\n",
    "    for (int w_i = border; w_i < width + border; w_i++){\n",
    "        mask = paddedDemoImage(Range(h_i-border,h_i+border+1),\n",
    "                           Range(w_i-border,w_i+border+1));\n",
    "//         cout << mask << endl;\n",
    "//         cout << \"Pre Mask\" << endl;\n",
    "        bitwise_and(mask, elementClone, dstAnd);\n",
    "        sumDst = cv::sum( dstAnd )[0];\n",
    "//         cout << dstAnd << endl;\n",
    "        if(sumDst){\n",
    "            //neighbor matrix as atleast 1 so lets make centre of OG image\n",
    "            //highest of all neighbor\n",
    "            cv::minMaxLoc(mask, &minVal, &maxVal);\n",
    "//             Mat modifiedMask = mask.clone();\n",
    "//             modifiedMask.at<uchar>(1,1) = maxVal;\n",
    "            \n",
    "//             modifiedMask.copyTo(paddedDilatedImage(Range(h_i-border,h_i+border+1),\n",
    "//                            Range(w_i-border,w_i+border+1)));\n",
    "            Mat transient = paddedDilatedImage(Range(h_i-border,h_i+border+1), Range(w_i-border,w_i+border+1));\n",
    "            transient.at<uchar>(1,1) = maxVal;\n",
    "//             cout << modifiedMask << endl;\n",
    "//             cout << \"found valid neighbor @\" << h_i << \",\" << w_i << endl;\n",
    "//             cout << paddedDilatedImage << endl;\n",
    "        }\n",
    "        // Resize output to 50x50 before writing it to the video\n",
    "        resize(paddedDilatedImage, resizedFrame, Size(frame_width, frame_height), INTER_LINEAR);\n",
    "        // Convert resizedFrame to BGR before writing\n",
    "        cvtColor (resizedFrame*255, resizedBGRImage, COLOR_GRAY2BGR );\n",
    "        //write frame\n",
    "        dialationavi.write(resizedBGRImage);\n",
    "//         cout << \"-----\" << endl;\n",
    "    }\n",
    "}\n",
    "\n",
    "// Release the VideoWriter object\n",
    "dialationavi.release();\n",
    "// cout << paddedDilatedImage << endl;"
   ]
  },
  {
   "cell_type": "code",
   "execution_count": 28,
   "metadata": {},
   "outputs": [
    {
     "name": "stdout",
     "output_type": "stream",
     "text": [
      "10\n",
      "10\n"
     ]
    },
    {
     "data": {
      "image/png": "[encoded data removed]"
     },
     "execution_count": 28,
     "metadata": {},
     "output_type": "execute_result"
    }
   ],
   "source": [
    "// Display final image (cropped)\n",
    "finalImage = paddedDilatedImage(Range(border,height+border),Range(border,width+border));\n",
    "cout << finalImage.size().width << endl;\n",
    "cout << finalImage.size().height << endl;\n",
    "plt::figure();\n",
    "plt::imshow(finalImage*255);\n",
    "pltImg = displayImage(finalImage*255);\n",
    "pltImg\n"
   ]
  },
  {
   "cell_type": "code",
   "execution_count": null,
   "metadata": {
    "collapsed": true
   },
   "outputs": [],
   "source": []
  },
  {
   "cell_type": "code",
   "execution_count": 29,
   "metadata": {},
   "outputs": [
    {
     "name": "stdout",
     "output_type": "stream",
     "text": [
      "Both Dialted matrix are equal\n"
     ]
    }
   ],
   "source": [
    "bool eq = cv::countNonZero(dilatedCrossKernel!=finalImage) == 0;\n",
    "if(eq) {\n",
    "    cout << \"Both Dialted matrix are equal\" << endl;\n",
    "}\n",
    "else {\n",
    "    cout << \"Dialted matrix are different\" << endl;\n",
    "}\n"
   ]
  },
  {
   "cell_type": "markdown",
   "metadata": {},
   "source": [
    "<video width=\"320\" height=\"240\" controls>\n",
    "  <source src=\"dilationScratch.avi\" type=\"video/mp4\">\n",
    "</video>"
   ]
  },
  {
   "cell_type": "markdown",
   "metadata": {},
   "source": [
    "# <font style=\"color:rgb(50,120,229)\">Implement Erosion </font>"
   ]
  },
  {
   "cell_type": "markdown",
   "metadata": {},
   "source": [
    "## <font style=\"color:rgb(50,120,229)\">First check expected output using cv::erode</font>"
   ]
  },
  {
   "cell_type": "code",
   "execution_count": 30,
   "metadata": {
    "scrolled": true
   },
   "outputs": [
    {
     "name": "stdout",
     "output_type": "stream",
     "text": [
      "[  0,   0,   0,   0,   0,   0,   0,   0,   0,   0;\n",
      "   0,   0,   0,   0,   0,   0,   0,   0,   0,   0;\n",
      "   0,   0,   0,   0,   0,   0,   0,   0,   0,   0;\n",
      "   0,   0,   0,   0,   0,   0,   0,   0,   0,   0;\n",
      "   0,   0,   0,   0,   0,   0,   0,   0,   0,   0;\n",
      "   0,   0,   0,   0,   0,   0,   0,   0,   0,   0;\n",
      "   0,   0,   0,   0,   0,   0,   1,   0,   0,   0;\n",
      "   0,   0,   0,   0,   0,   0,   0,   0,   0,   0;\n",
      "   0,   0,   0,   0,   0,   0,   0,   0,   0,   0;\n",
      "   0,   0,   0,   0,   0,   0,   0,   0,   0,   0]\n",
      "[  0,   1,   0;\n",
      "   1,   1,   1;\n",
      "   0,   1,   0]\n"
     ]
    }
   ],
   "source": [
    "Mat ErodedCrossKernel;\n",
    "erode(demoImage, ErodedCrossKernel, element);\n",
    "cout << ErodedCrossKernel << endl;\n",
    "cout << element << endl;"
   ]
  },
  {
   "cell_type": "code",
   "execution_count": 31,
   "metadata": {},
   "outputs": [
    {
     "data": {
      "image/png": "[encoded data removed]"
     },
     "execution_count": 31,
     "metadata": {},
     "output_type": "execute_result"
    }
   ],
   "source": [
    "plt::figure();\n",
    "plt::imshow(ErodedCrossKernel*255);\n",
    "pltImg = displayImage(ErodedCrossKernel*255);\n",
    "pltImg"
   ]
  },
  {
   "cell_type": "markdown",
   "metadata": {},
   "source": [
    "## <font style=\"color:rgb(50,120,229)\">Write code for Erosion from scratch</font>\n",
    "\n",
    "Create a VideoWriter object and write the result obtained at the end of each iteration to the object. Save the video to **`erosionScratch.avi`** and display it using markdown below:\n",
    "\n",
    "**`erosionScratch.avi` will come here**\n",
    "\n",
    "```<video width=\"320\" height=\"240\" controls>\n",
    "  <source src=\"erosionScratch.avi\" type=\"video/mp4\">\n",
    "</video>```\n",
    "\n",
    "**Note**\n",
    "\n",
    "1. Use FPS as 10 and frame size as 50x50\n",
    "2. Before writing the frame, resize it to 50x50\n",
    "3. Convert the resized frame to BGR\n",
    "4. Release the object"
   ]
  },
  {
   "cell_type": "code",
   "execution_count": 32,
   "metadata": {
    "collapsed": true
   },
   "outputs": [],
   "source": [
    "border = ksize/2;\n",
    "paddedDemoImage = Mat::zeros(Size(height + border*2, width + border*2),CV_8UC1);\n",
    "copyMakeBorder(demoImage,paddedDemoImage,border,border,border,border,BORDER_CONSTANT,0);\n",
    "\n",
    "Mat paddedErodedImage = paddedDemoImage.clone();\n",
    "Mat resizedFrameEroded;\n",
    "Mat resizedBGRImageEroded;\n",
    "Mat finalImageEroded;\n",
    "\n",
    "// Create a VideoWriter object\n",
    "// Use frame size as 50x50\n",
    "VideoWriter erosionavi(\"erosionScratch.avi\", cv::VideoWriter::fourcc('M','J','P','G'), fps, Size(frame_width,frame_height));\n",
    "\n",
    "for (int h_i = border; h_i < height + border; h_i++){\n",
    "    for (int w_i = border; w_i < width + border; w_i++){\n",
    "        mask = paddedDemoImage(Range(h_i-border,h_i+border+1),\n",
    "                           Range(w_i-border,w_i+border+1));\n",
    "//         cout << mask << endl;\n",
    "//         cout << \"Pre Mask\" << endl;\n",
    "        bitwise_or(mask, elementClone, dstAnd);\n",
    "        sumDst = cv::sum( dstAnd )[0];\n",
    "//         cout << dstAnd << endl;\n",
    "        if(sumDst){\n",
    "            //neighbor matrix as atleast 1 so lets make centre of OG image\n",
    "            //highest of all neighbor\n",
    "            cv::minMaxLoc(mask, &minVal, &maxVal);\n",
    "//             Mat modifiedMask = mask.clone();\n",
    "//             modifiedMask.at<uchar>(1,1) = maxVal;\n",
    "            \n",
    "//             modifiedMask.copyTo(paddedDilatedImage(Range(h_i-border,h_i+border+1),\n",
    "//                            Range(w_i-border,w_i+border+1)));\n",
    "            Mat transient = paddedErodedImage(Range(h_i-border,h_i+border+1), Range(w_i-border,w_i+border+1));\n",
    "            transient.at<uchar>(1,1) = minVal;\n",
    "//             cout << modifiedMask << endl;\n",
    "//             cout << \"found valid neighbor @\" << h_i << \",\" << w_i << endl;\n",
    "//             cout << paddedDilatedImage << endl;\n",
    "        }\n",
    "        // Resize output to 50x50 before writing it to the video\n",
    "        resize(paddedErodedImage, resizedFrameEroded, Size(frame_width, frame_height), INTER_LINEAR);\n",
    "        // Convert resizedFrame to BGR before writing\n",
    "        cvtColor (resizedFrameEroded*255, resizedBGRImageEroded, COLOR_GRAY2BGR );\n",
    "        //write frame\n",
    "        erosionavi.write(resizedBGRImageEroded);\n",
    "    }\n",
    "}\n",
    "\n",
    "// Release the VideoWriter object\n",
    "erosionavi.release();"
   ]
  },
  {
   "cell_type": "code",
   "execution_count": 33,
   "metadata": {},
   "outputs": [
    {
     "name": "stdout",
     "output_type": "stream",
     "text": [
      "10\n",
      "10\n"
     ]
    },
    {
     "data": {
      "image/png": "[encoded data removed]"
     },
     "execution_count": 33,
     "metadata": {},
     "output_type": "execute_result"
    }
   ],
   "source": [
    "// Display final image (cropped)\n",
    "finalImageEroded = paddedErodedImage(Range(border,height+border),Range(border,width+border));\n",
    "cout << finalImageEroded.size().width << endl;\n",
    "cout << finalImageEroded.size().height << endl;\n",
    "plt::figure();\n",
    "plt::imshow(finalImageEroded*255);\n",
    "pltImg = displayImage(finalImageEroded*255);\n",
    "pltImg"
   ]
  },
  {
   "cell_type": "code",
   "execution_count": 34,
   "metadata": {},
   "outputs": [
    {
     "name": "stdout",
     "output_type": "stream",
     "text": [
      "Both Eroded matrix are equal\n"
     ]
    }
   ],
   "source": [
    "bool eqEroded = cv::countNonZero(ErodedCrossKernel!=finalImageEroded) == 0;\n",
    "if(eqEroded) {\n",
    "    cout << \"Both Eroded matrix are equal\" << endl;\n",
    "}\n",
    "else {\n",
    "    cout << \"Eroded matrix are different\" << endl;\n",
    "}"
   ]
  }
 ],
 "metadata": {
  "kernelspec": {
   "display_name": "C++14",
   "language": "C++14",
   "name": "xeus-cling-cpp14"
  },
  "language_info": {
   "codemirror_mode": "text/x-c++src",
   "file_extension": ".cpp",
   "mimetype": "text/x-c++src",
   "name": "c++",
   "version": "-std=c++14"
  }
 },
 "nbformat": 4,
 "nbformat_minor": 2
}
